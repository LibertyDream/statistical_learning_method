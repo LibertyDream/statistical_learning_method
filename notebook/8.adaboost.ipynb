{
 "cells": [
  {
   "cell_type": "markdown",
   "metadata": {},
   "source": [
    "# Adaboost\n",
    "\n",
    "微观上，提升法（boosting）就是在分类问题中，每次放大错误样本的权重，学习多个分类器，前一个分类器的结果是下一个分类器的输入，如此迭代，最后将这些线性分类器线性组合得到最终分类器。是一个从弱学习算法提升到强学习算法的过程\n",
    "\n",
    "宏观上，提升法的代表 Adaboost 算法是模型为加法模型，损失函数为指数函数，学习算法为前向分布算法的二分类学习方法。\n",
    "\n",
    "**Adaboost 算法描述**\n",
    "\n",
    "输入：训练数据集$T=\\left\\{\\left(x_{1}, y_{1}\\right),\\left(x_{2}, y_{2}\\right), \\cdots,\\left(x_{N}, y_{N}\\right)\\right\\}$，其中 $x_{i} \\in \\mathcal{X} \\subseteq \\mathbf{R}^{n}, y_{i} \\in \\mathcal{Y} = \\{-1,+1\\}$；弱学习算法\n",
    "\n",
    "输出：最终分类器 $G(x)$\n",
    "\n",
    "1. 初始化数据的权重分布\n",
    "\n",
    "$$\n",
    "D_{1}=\\left(w_{11}, \\cdots, w_{1 i}, \\cdots, w_{1 N}\\right), \\quad w_{1 i}=\\frac{1}{N}, \\quad i=1,2, \\cdots, N\n",
    "$$\n",
    "\n",
    "2. 对 $m = 1,2,\\ldots,M$\n",
    "\n",
    "   1. 在权重分布为 $G_m$ 的数据集上学习基本分类器 $G_{m}(x): \\mathcal{X} \\rightarrow\\{-1,+1\\}$\n",
    "   2. 计算 $G_m$ 上的分类误差率  $e_{m}=\\sum_{i=1}^{N} P\\left(G_{m}\\left(x_{i}\\right) \\neq y_{i}\\right)=\\sum_{i=1}^{N} w_{m i} I\\left(G_{m}\\left(x_{i}\\right) \\neq y_{i}\\right)$\n",
    "   3. 计算 $G_m(x)$ 的系数 $\\alpha_{m}=\\frac{1}{2} \\log \\frac{1-e_{m}}{e_{m}}$ ，取自然对数\n",
    "   4. 更新权重分布\n",
    "\n",
    "   $$\n",
    "   \\begin{array}{c}{D_{m+1}=\\left(w_{m+1,1}, \\cdots, w_{m+1, i}, \\cdots, w_{m+1, N}\\right)} \\\\ {w_{m+1, i}=\\frac{w_{m i}}{Z_{m}} \\exp \\left(-\\alpha_{m} y_{i} G_{m}\\left(x_{i}\\right)\\right), \\quad i=1,2, \\cdots, N}\\end{array}\n",
    "   $$\n",
    "\n",
    "   $Z_{m}=\\sum_{i=1}^{N} w_{m i} \\exp \\left(-\\alpha_{m} y_{i} G_{m}\\left(x_{i}\\right)\\right)$ 是规范化因子，使 $D_{m+1}$ 成为一个概率分布\n",
    "\n",
    "3. 构建基本分类器的线性组合 $f(x)=\\sum_{m=1}^{M} \\alpha_{m} G_{m}(x)$，得到最终分类器\n",
    "\n",
    "$$\n",
    "G(x) =\\operatorname{sign}(f(x))=\\operatorname{sign}\\left(\\sum_{m=1}^{M} \\alpha_{m} G_{m}(x)\\right) \n",
    "$$\n",
    "\n",
    "adaboost的两个特点：\n",
    "\n",
    "- 不改变所给数据而是改变数据权值分布，使训练数据对不同分类器起不同作用\n",
    "- 利用基本分类器的线性组合构建最终分类器\n",
    "\n",
    "**加法模型解释**\n",
    "\n",
    "当把adaboost视为前向分步算法的一个实现，模型为加法模型 $f(x)=\\sum_{m=1}^{M} \\beta_{m} b\\left(x ; \\gamma_{m}\\right)$，指数损失函数，每一步实际是在极小化损失函数\n",
    "$$\n",
    "\\left(\\beta_{m}, \\gamma_{m}\\right)=\\arg \\min _{\\beta, \\gamma} \\sum_{i=1}^{N} L\\left(y_{i}, f_{m-1}\\left(x_{i}\\right)+\\beta b\\left(x_{i} ; \\gamma\\right)\\right)\n",
    "$$\n",
    "求取参数 $\\beta_{m}, \\gamma_{m}$\n",
    "\n",
    "# 提升树\n",
    "\n",
    "提升树是以分类树或回归树为基本分类器的提升方法。前者是二叉分类树用指数损失函数，后者是二叉回归树用平方误差损失函数。分类问题算作是 adaboost 算法的特例，对于回归问题实际是在拟合残差。\n",
    "\n",
    "回归树可以表示为 $T(x ; \\Theta)=\\sum_{j=1}^{J} c_{j} I\\left(x \\in R_{j}\\right)$，$R_j$ 是输入空间 $\\mathcal{X}$ 划分出的若干不相交区域之一，$c_j$ 是其上输出常量，$\\Theta$ 是决策树参数，表示各划分和各区域上的常数，$J$ 是叶结点数\n",
    "\n",
    "**回归问题提升树算法**\n",
    "\n",
    "输入：训练数据集 $T=\\left\\{\\left(x_{1}, y_{1}\\right),\\left(x_{2}, y_{2}\\right), \\cdots,\\left(x_{N}, y_{N}\\right)\\right\\}$ ，$x_{i} \\in \\mathcal{X} \\subseteq \\mathbf{R}^{n}, y_{i} \\in \\mathcal{Y}  \\subseteq \\mathbf{R}^{n}$；\n",
    "\n",
    "输出：提升树 $f_M(x)$\n",
    "\n",
    "1. 初始化 $f_0(x) = 0$\n",
    "\n",
    "2. 对 $m = 1,2,\\ldots,M$\n",
    "\n",
    "   1. 在树上计算残差\n",
    "\n",
    "   $$\n",
    "   r_{m i}=y_{i}-f_{m-1}\\left(x_{i}\\right), \\quad i=1,2, \\cdots, N\n",
    "   $$\n",
    "\n",
    "   2. 拟合残差得到回归树 $T(x ; \\Theta_m)$\n",
    "   3. 更新 $f_{m}(x)=f_{m-1}(x)+T\\left(x ; \\Theta_{m}\\right)$\n",
    "\n",
    "3. 得到问题的提升回归树 $f_{M}(x)=\\sum_{m=1}^{M} T\\left(x ; \\Theta_{m}\\right)$"
   ]
  },
  {
   "cell_type": "markdown",
   "metadata": {},
   "source": [
    "# 算法实现\n",
    "\n",
    "**导入相关库**"
   ]
  },
  {
   "cell_type": "code",
   "execution_count": 1,
   "metadata": {},
   "outputs": [],
   "source": [
    "import math\n",
    "import numpy as np\n",
    "import pandas as pd\n",
    "import matplotlib.pyplot as plt\n",
    "\n",
    "%matplotlib inline"
   ]
  },
  {
   "cell_type": "markdown",
   "metadata": {},
   "source": [
    "**硬件与版本信息**"
   ]
  },
  {
   "cell_type": "code",
   "execution_count": 2,
   "metadata": {},
   "outputs": [
    {
     "name": "stdout",
     "output_type": "stream",
     "text": [
      "CPython 3.7.3\n",
      "IPython 7.6.1\n",
      "\n",
      "ipywidgets 7.5.0\n",
      "matplotlib 3.1.0\n",
      "numpy 1.16.4\n",
      "pandas 0.24.2\n",
      "sklearn 0.21.2\n",
      "\n",
      "compiler   : MSC v.1915 64 bit (AMD64)\n",
      "system     : Windows\n",
      "release    : 10\n",
      "machine    : AMD64\n",
      "processor  : Intel64 Family 6 Model 60 Stepping 3, GenuineIntel\n",
      "CPU cores  : 4\n",
      "interpreter: 64bit\n"
     ]
    }
   ],
   "source": [
    "%load_ext watermark\n",
    "%watermark -v -m -p ipywidgets,matplotlib,numpy,pandas,sklearn"
   ]
  },
  {
   "cell_type": "markdown",
   "metadata": {},
   "source": [
    "**Adaboost 分类树**"
   ]
  },
  {
   "cell_type": "code",
   "execution_count": 3,
   "metadata": {},
   "outputs": [],
   "source": [
    "class DecisionTreeStump(object):\n",
    "    '''决策树桩\n",
    "    \n",
    "    label:\n",
    "        样本是正类（+1）还是负类（-1）,默认为正类\n",
    "    feture_index:\n",
    "        分类特征索引\n",
    "    threshold:\n",
    "        划分阈值，低于threshold 归负类，反之为正类\n",
    "    alpha:\n",
    "        分类准确率\n",
    "    '''\n",
    "    def __init__(self):\n",
    "        self.label = 1\n",
    "        self.feture_index = None\n",
    "        self.threshold = None\n",
    "        self.alpha = None"
   ]
  },
  {
   "cell_type": "code",
   "execution_count": 4,
   "metadata": {},
   "outputs": [],
   "source": [
    "class Adaboost(object):\n",
    "    '''自适应提升分类树\n",
    "    \n",
    "        使用高度为 2 的二叉分类树作为基分类器的 adaboost 算法实现\n",
    "        \n",
    "    clf_num:\n",
    "        基分类器数量\n",
    "    '''\n",
    "    \n",
    "    def __init__(self, clf_num = 5):\n",
    "        \n",
    "        self.clf_num = clf_num\n",
    "        \n",
    "    def fit(self, X_train, y_train):\n",
    "        \n",
    "        n_samples, n_features = np.shape(X_train)\n",
    "        \n",
    "        # 初始时样本权重均匀分布\n",
    "        weight = np.full(n_samples, (1 / n_samples))\n",
    "        \n",
    "        \n",
    "        # 训练各基分类器\n",
    "        self.clfs = []\n",
    "        \n",
    "        for i in range(self.clf_num):\n",
    "            \n",
    "            clf = DecisionTreeStump()\n",
    "            \n",
    "            min_error = float('inf')\n",
    "            \n",
    "            for feature_i in range(n_features):\n",
    "                \n",
    "                feature_values = np.expand_dims(X_train[:,feature_i], axis=1)\n",
    "                \n",
    "                unique_values = np.unique(feature_values)\n",
    "                \n",
    "                for threshold in unique_values:\n",
    "                    label = 1\n",
    "                    \n",
    "                    pred = np.ones(np.shape(y_train))\n",
    "                    pred[X_train[:,feature_i] < threshold] = -1\n",
    "    \n",
    "                    err = sum(weight[y_train != pred])\n",
    "              \n",
    "                    \n",
    "                    # 保证 alpha 和 err 的反比关系，错误率过半则反转类别\n",
    "                    if err > 0.5:\n",
    "                        err = 1 - err\n",
    "                        label = -1\n",
    "                       \n",
    "                    # 保留误差最小的特征\n",
    "                    if err < min_error:\n",
    "                        min_error = err\n",
    "                        clf.label = label\n",
    "                        clf.threshold = threshold\n",
    "                        clf.feature_index = feature_i\n",
    "            \n",
    "            # 更新分类器权重\n",
    "            clf.alpha = 0.5 * math.log((1-min_error) / (min_error + 1e-10))\n",
    "            \n",
    "            # 更新样本权重分布\n",
    "            pred = np.ones(np.shape(y_train))\n",
    "            neg_index = (clf.label * X_train[:,clf.feature_index] < clf.label * clf.threshold)\n",
    "            pred[neg_index] = -1\n",
    "            weight *= np.exp(-clf.alpha * y_train * pred)\n",
    "            weight /= sum(weight)\n",
    "            \n",
    "            self.clfs.append(clf)\n",
    "            \n",
    "    def predict(self, X_test):\n",
    "        \n",
    "        n_samples = np.shape(X_test)[0]\n",
    "        y_pred = np.zeros((n_samples, 1))\n",
    "        \n",
    "        for clf in self.clfs:\n",
    "            \n",
    "            pred = np.ones(np.shape(y_pred))\n",
    "            \n",
    "            neg_index = (clf.label * X_test[:,clf.feature_index] < clf.label * clf.threshold)\n",
    "            \n",
    "            pred[neg_index] = -1\n",
    "            \n",
    "            y_pred += clf.alpha * pred\n",
    "            \n",
    "        y_pred = np.sign(y_pred).flatten()\n",
    "        \n",
    "        return y_pred\n",
    "        "
   ]
  },
  {
   "cell_type": "markdown",
   "metadata": {},
   "source": [
    "# 模型测试\n",
    "\n",
    "**导入数据**"
   ]
  },
  {
   "cell_type": "code",
   "execution_count": 5,
   "metadata": {},
   "outputs": [],
   "source": [
    "from sklearn.datasets import load_digits\n",
    "from sklearn.model_selection import train_test_split\n",
    "\n",
    "def create_data():\n",
    "    data = load_digits()\n",
    "    X = data.data\n",
    "    y = data.target\n",
    "    \n",
    "    digit_one = 1\n",
    "    digit_two = 8\n",
    "    \n",
    "    idx = np.append(np.where(y == digit_one)[0],np.where(y == digit_two)[0])\n",
    "    y = data.target[idx]\n",
    "    \n",
    "    y[y == digit_one] = -1\n",
    "    y[y == digit_two] = 1\n",
    "    X = data.data[idx]\n",
    "    \n",
    "    return X, y"
   ]
  },
  {
   "cell_type": "code",
   "execution_count": 6,
   "metadata": {},
   "outputs": [],
   "source": [
    "X, y = create_data()\n",
    "X_train, X_test, y_train, y_test = train_test_split(X, y, test_size = 0.3)"
   ]
  },
  {
   "cell_type": "markdown",
   "metadata": {},
   "source": [
    "**训练模型**"
   ]
  },
  {
   "cell_type": "code",
   "execution_count": 7,
   "metadata": {
    "scrolled": false
   },
   "outputs": [],
   "source": [
    "adaboost = Adaboost()\n",
    "adaboost.fit(X_train, y_train)"
   ]
  },
  {
   "cell_type": "markdown",
   "metadata": {},
   "source": [
    "**预测与可视化**"
   ]
  },
  {
   "cell_type": "code",
   "execution_count": 8,
   "metadata": {},
   "outputs": [
    {
     "name": "stdout",
     "output_type": "stream",
     "text": [
      "Accuracy: 0.906542\n"
     ]
    }
   ],
   "source": [
    "y_pred = adaboost.predict(X_test)\n",
    "accuracy = np.sum(y_pred == y_test, axis=0) / len(y_test)\n",
    "print(\"Accuracy: %f\" % accuracy)"
   ]
  },
  {
   "cell_type": "code",
   "execution_count": 9,
   "metadata": {},
   "outputs": [],
   "source": [
    "def transform(X, dim):\n",
    "    '''PCA降维转换'''\n",
    "    \n",
    "    n_samples = X.shape[0]\n",
    "    covariance_matrix = (1 / (n_samples - 1)) * (X - X.mean(axis=0)).T.dot(X - X.mean(axis=0))\n",
    "    covariance_matrix = np.array(covariance_matrix, dtype=float)\n",
    "    \n",
    "    # 计算特征值和特征向量\n",
    "    eigenvalues, eigenvectors = np.linalg.eig(covariance_matrix)\n",
    "    \n",
    "    # \n",
    "    idx = eigenvalues.argsort()[::-1]\n",
    "    eigenvalues = eigenvalues[idx][:dim]\n",
    "    eigenvectors = np.atleast_1d(eigenvectors[:,idx])[:,:dim]\n",
    "    \n",
    "    X_transformed = X.dot(eigenvectors)\n",
    "    \n",
    "    return X_transformed"
   ]
  },
  {
   "cell_type": "code",
   "execution_count": 10,
   "metadata": {},
   "outputs": [
    {
     "data": {
      "image/png": "[encoded data removed]",
      "text/plain": [
       "<Figure size 432x288 with 1 Axes>"
      ]
     },
     "metadata": {
      "needs_background": "light"
     },
     "output_type": "display_data"
    }
   ],
   "source": [
    "cmap = plt.get_cmap('viridis')\n",
    "\n",
    "X_transformed = transform(X_test, dim=2)\n",
    "x1 = X_transformed[:,0]\n",
    "x2 = X_transformed[:,1]\n",
    "class_distr = []\n",
    "\n",
    "y = np.array(y_pred).astype(int)\n",
    "\n",
    "colors = [cmap(i) for i in np.linspace(0, 1, len(np.unique(y)))]\n",
    "\n",
    "for i, l in enumerate(np.unique(y)):\n",
    "    _x1 = x1[y==l]\n",
    "    _x2 = x2[y==l]\n",
    "    _y = y[y==l]\n",
    "    class_distr.append(plt.scatter(_x1, _x2, color = colors[i]))\n",
    "\n",
    "    \n",
    "perc = 100*accuracy\n",
    "plt.suptitle(\"Adaboost\")\n",
    "plt.title(\"Accuracy: %.1f%%\" % perc, fontsize=10)\n",
    "\n",
    "plt.xlabel(\"Principal Component 1\")\n",
    "plt.ylabel(\"Principal Component 2\")\n",
    "plt.show()"
   ]
  },
  {
   "cell_type": "markdown",
   "metadata": {},
   "source": [
    "## sklearn 里的 Adaboost"
   ]
  },
  {
   "cell_type": "code",
   "execution_count": 11,
   "metadata": {},
   "outputs": [
    {
     "data": {
      "text/plain": [
       "AdaBoostClassifier(algorithm='SAMME.R', base_estimator=None, learning_rate=0.5,\n",
       "                   n_estimators=10, random_state=None)"
      ]
     },
     "execution_count": 11,
     "metadata": {},
     "output_type": "execute_result"
    }
   ],
   "source": [
    "from sklearn.ensemble import AdaBoostClassifier\n",
    "\n",
    "cls = AdaBoostClassifier(n_estimators = 10, learning_rate = 0.5)\n",
    "cls.fit(X_train, y_train)"
   ]
  },
  {
   "cell_type": "markdown",
   "metadata": {},
   "source": [
    "scikit-learn 实现了两种 Adaboost 分类算法，SAMME 和 SAMME.R。两者的主要区别是弱学习器权重的度量，SAMME 用样本集分类效果作为弱学习器权重，而SAMME.R 使用分类预测概率值来作为弱学习器权重。后者是连续值所以迭代一般比 SAMME 快，因此 AdaBoostClassifier 的默认算法 algorithm 的值也是SAMME.R。注意，使用 SAMME.R 时弱分类学习器参数 base_estimator 必须限制使用支持概率预测的分类器。SAMME 算法则没有这个限制。"
   ]
  },
  {
   "cell_type": "code",
   "execution_count": 12,
   "metadata": {},
   "outputs": [
    {
     "data": {
      "text/plain": [
       "0.9439252336448598"
      ]
     },
     "execution_count": 12,
     "metadata": {},
     "output_type": "execute_result"
    }
   ],
   "source": [
    "cls.score(X_test, y_test)"
   ]
  }
 ],
 "metadata": {
  "file_extension": ".py",
  "kernelspec": {
   "display_name": "Python 3",
   "language": "python",
   "name": "python3"
  },
  "language_info": {
   "codemirror_mode": {
    "name": "ipython",
    "version": 3
   },
   "file_extension": ".py",
   "mimetype": "text/x-python",
   "name": "python",
   "nbconvert_exporter": "python",
   "pygments_lexer": "ipython3",
   "version": "3.7.3"
  },
  "mimetype": "text/x-python",
  "name": "python",
  "npconvert_exporter": "python",
  "pygments_lexer": "ipython3",
  "version": 3
 },
 "nbformat": 4,
 "nbformat_minor": 2
}
