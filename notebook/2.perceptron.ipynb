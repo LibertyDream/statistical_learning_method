{
 "cells": [
  {
   "cell_type": "markdown",
   "metadata": {},
   "source": [
    "感知机（perceptron）是二分类线性模型，旨在求出将训练数据线性划分的超平面，是判别模型\n",
    "\n",
    "- [2.1 感知机模型](#2.1-感知机模型)\n",
    "- [2.2 感知机学习策略](#2.2-感知机学习策略)\n",
    "    - [2.2.1 数据集的线性可分性](#2.2.1-数据集的线性可分性)\n",
    "- [2.3 感知机学习算法](#2.3-感知机学习算法)\n",
    "    - [2.3.1 感知机学习算法的原始形式](#2.3.1-感知机学习算法的原始形式)\n",
    "    - [2.3.2 算法的收敛性](#2.3.2-算法的收敛性)\n",
    "    - [2.3.3 感知机学习算法的对偶形式](#2.3.3-感知机学习算法的对偶形式)\n",
    "- [算法实现](#算法实现)\n",
    "- [习题](#习题)"
   ]
  },
  {
   "cell_type": "markdown",
   "metadata": {},
   "source": [
    "# 2.1 感知机模型\n",
    "\n",
    "感知机是输入空间到输出空间的函数：\n",
    "$$\n",
    "f(x)=\\operatorname{sign}(w \\cdot x+b)\n",
    "$$\n",
    "其中输入的特征向量 $x\\in \\mathcal{X},\\mathcal{X} \\subseteq \\mathbf{R}^{n}$，输出 $y \\in \\mathcal{Y}, \\mathcal{Y} = \\{+1, -1\\}$。$w$ 和 $b$ 是模型参数。$w \\in \\mathbf{R}^{n}$ 叫做权值（weight），$b \\in \\mathbf{R}$ 叫做偏置（bias），$w \\cdot x$ 表示二者内积，sign 是符号函数：\n",
    "$$\n",
    "\\operatorname{sign}(x)=\\left\\{\\begin{array}{ll}{+1,} & {x \\geqslant 0} \\\\ {-1,} & {x<0}\\end{array}\\right.\n",
    "$$\n",
    "感知机的假设空间是所有线性分类模型或分类器。即函数集 $\\{f | f(x)=w \\cdot x+b\\}$\n",
    "\n",
    "几何上感知机就是将所有样本数据点一分为二的超平面。$w$ 和 $b$ 分别是平面法向量和截距。\n",
    "\n",
    "![]( https://raw.githubusercontent.com/LibertyDream/diy_img_host/master/img/2019-08-13_perceptron.jpg)\n",
    "\n",
    "# 2.2 感知机学习策略\n",
    "\n",
    "## 2.2.1 数据集的线性可分性\n",
    "\n",
    "给定一个数据集 $T$，如果存在超平面：\n",
    "$$\n",
    "w \\cdot x+b = 0\n",
    "$$\n",
    "能将正实例和负实例完全、正确地划分到超平面两侧，即对所有 $y_{i}= +1$ 的实例有$w \\cdot x_{i}+b > 0$，对所有 $y_{i}= -1$ 的实例有$w \\cdot x_{i}+b < 0$，则称数据集 $T$ 线性可分，否则称数据集 $T$ 线性不可分\n",
    "\n",
    "## 2.2.2 感知机学习策略\n",
    "\n",
    "要找出超平面，即确定模型参数 $w$ 和 $b$ ，需要一个策略，即定义（经验）损失函数并使其极小化。\n",
    "\n",
    "如果选择误分类点的总数，损失函数对 $w$ 和 $b$ 不连续可导。所以选择误分类点到超平面的距离总和。\n",
    "\n",
    "空间中任一点到超平面的距离为：\n",
    "$$\n",
    "\\frac{1}{\\|w\\|}\\left|w \\cdot x_{0}+b\\right|\n",
    "$$\n",
    "$\\|w\\|$ 是 $w$ 的 $L_{2}$ 范数。而对于误分类的点来说，因为预测值和真实值总是相反的，所以有：\n",
    "$$\n",
    "-y_{i}\\left(w \\cdot x_{i}+b\\right)>0\n",
    "$$\n",
    "因此所有误分类点到超平面的距离总和可以定义为：\n",
    "$$\n",
    "-\\frac{1}{\\|w\\|} \\sum_{x_{i} \\in M} y_{i}\\left(w \\cdot x_{i}+b\\right)\n",
    "$$\n",
    "$M$ 为误分类的点集。不考虑 $\\frac{1}{\\|w\\|}$，就得到了感知机的损失函数：\n",
    "$$\n",
    "L(w, b)=-\\sum_{x_{i} \\in M} y_{i}\\left(w \\cdot x_{i}+b\\right)\n",
    "$$\n",
    "正确分类时函数值为0，错误分类时，$L(w,b)$ 是 $w$ 和 $b$ 的线性函数。所以 $L(w,b)$ 关于 $w$ 和 $b$ 连续可导。\n",
    "\n",
    "# 2.3 感知机学习算法\n",
    "\n",
    "## 2.3.1 感知机学习算法的原始形式\n",
    "\n",
    "求解 $w$，$b$ 就是最优化问题：\n",
    "$$\n",
    "\\min _{w, b} L(w, b)=-\\sum_{x_{i} \\in M} y_{i}\\left(w \\cdot x_{i}+b\\right)\n",
    "$$\n",
    "任意选取一个超平面 $w_{0}$， $b$，采用梯度下降法（stochastic gradient descent）不断地极小化损失函数直到收敛。几何上表示为，起始随意选取一个超平面，然后随机根据一个误分类点调整 $w$ 和 $b$ ，使得超平面向该点靠近，直到越过该点使分类正确。\n",
    "\n",
    "损失函数 $L(w, b)$ 的梯度由\n",
    "$$\n",
    "\\begin{array}{c}{\\nabla_{w} L(w, b)=-\\sum_{x_{i} \\in M} y_{i} x_{i}} \\\\ {\\nabla_{b} L(w, b)=-\\sum_{x_{i} \\in M} y_{i}}\\end{array}\n",
    "$$\n",
    "给出，随机选取一个误分类点 $(x_{i},y_{i})$，更新 $w$，$b$：\n",
    "$$\n",
    "\\begin{array}{c}{w \\leftarrow w+\\eta y_{i} x_{i}} \\\\ {b \\leftarrow b+\\eta y_{i}}\\end{array}\n",
    "$$\n",
    "$\\eta$（$0<\\eta \\leqslant 1$）是步长，也叫学习率(learning rate)，这样不断迭代直到损失为0。\n",
    "\n",
    "感知机算法的解不唯一，往往存在多个符合条件的超平面，依赖于初始值的选择以及误分类点的选取顺序。\n",
    "\n",
    "## 2.3.2 算法的收敛性\n",
    "\n",
    "$w \\cdot x+b$ 也可以写成向量内积的形式 $\\hat{w} \\cdot \\hat{x}=w \\cdot x+b$，其中 $\\hat{w}=\\left(w^{\\mathrm{T}}, b\\right)^{\\mathrm{T}}$，$\\hat{x}=\\left(x^{\\mathrm{T}}, 1\\right)^{\\mathrm{T}}$，这样 $\\hat{x} \\in \\mathbf{R}^{n+1}$,  $\\hat{w} \\in \\mathbf{R}^{n+1}$。有了这个铺垫后，我们有感知机算法原始形式的收敛定理：\n",
    "\n",
    "**定理：  设训练数据集 $T=\\left\\{\\left(x_{1}, y_{1}\\right),\\left(x_{2}, y_{2}\\right), \\cdots,\\left(x_{N}, y_{N}\\right)\\right\\}$ 线性可分，其中 $x_{i} \\in \\mathcal{X}=\\mathbf{R}^{n}, y_{i} \\in \\mathcal{Y}=\\{-1,+1\\}, i=1,2, \\cdots, N$ 则：**\n",
    "\n",
    "1. **存在满足条件 $\\left\\|\\hat{w}_{\\mathrm{opt}}\\right\\|=1$ 的超平面 $\\hat{w}_{\\mathrm{opt}} \\cdot \\hat{x}=w_{\\mathrm{opt}} \\cdot x+b_{\\mathrm{opt}}=0$ 将训练数据集完全正确地分开；且存在 $\\gamma > 0$，对所有 $i = 1,2,\\ldots,N$**\n",
    "\n",
    "$$\n",
    "y_{i}\\left(\\hat{w}_{\\mathrm{opt}} \\cdot \\hat{x}_{i}\\right)=y_{i}\\left(w_{\\mathrm{opt}} \\cdot x_{i}+b_{\\mathrm{opt}}\\right) \\geqslant \\gamma\n",
    "$$\n",
    "\n",
    "2. **令 $R=\\max _{1 \\leqslant i \\leqslant N}\\left\\|\\hat{x}_{i}\\right\\|$ ，则感知机算法在训练数据集上的误分类次数 $ k$ 满足不等式：**\n",
    "\n",
    "$$\n",
    "k \\leqslant\\left(\\frac{R}{\\gamma}\\right)^{2}\n",
    "$$\n",
    "\n",
    "证明：\n",
    "\n",
    "① 由于数据集线性可分，且超平面能完全正确地分类，假设此超平面为 $\\hat{w}_{\\mathrm{opt}} \\cdot \\hat{x}=w_{\\mathrm{opt}} \\cdot x+b_{\\mathrm{opt}}=0$，且 $\\left\\|\\hat{w}_{\\mathrm{opt}}\\right\\|=1$（这样度量点到超平面距离只用考虑 $\\left|w \\cdot x_{0}+b\\right|$ 部分），那么对任意样本均有\n",
    "$$\n",
    "y_{i}\\left(\\hat{w}_{\\mathrm{opt}} \\cdot \\hat{x}_{i}\\right)=y_{i}\\left(w_{\\mathrm{opt}} \\cdot x_{i}+b_{\\mathrm{opt}}\\right) > 0\n",
    "$$\n",
    "所以有：\n",
    "$$\n",
    "\\gamma=\\min _{i} \\left\\{y_{i}\\left(w_{\\mathrm{opt}} \\cdot x_{i}+b_{\\mathrm{opt}}\\right)\\right\\}\n",
    "$$\n",
    "使\n",
    "$$\n",
    "y_{i}\\left(\\hat{w}_{\\mathrm{opt}} \\cdot \\hat{x}_{i}\\right)=y_{i}\\left(w_{\\mathrm{opt}} \\cdot x_{i}+b_{\\mathrm{opt}}\\right) \\geqslant \\gamma\n",
    "$$\n",
    "② 假设感知机从误分类点  $\\hat{w}_{\\mathrm{0}}$  开始更新权重。$\\hat{w}_{\\mathrm{k - 1}}$ 是第 $k$ 个误分类点前的扩充权重向量，即\n",
    "$$\n",
    "\\hat{w}_{k-1}=\\left(w_{k-1}^{\\mathrm{T}}, b_{k-1}\\right)^{\\mathrm{T}}\n",
    "$$\n",
    "按照误分类标准，有\n",
    "$$\n",
    "y_{i}\\left(\\hat{w}_{k-1} \\cdot \\hat{x}_{i}\\right)=y_{i}\\left(w_{k-1} \\cdot x_{i}+b_{k-1}\\right) \\leqslant 0\n",
    "$$\n",
    "其中 $(x_{i},y_{i})$ 是被 $\\hat{w}_{k-1}=\\left(w_{k-1}^{\\mathrm{T}}, b_{k-1}\\right)^{\\mathrm{T}}$ 误分类的数据，那么权重向量应被更新为\n",
    "$$\n",
    "\\begin{array}{c}{w_{k} \\leftarrow w_{k-1}+\\eta y_{i} x_{i}} \\\\ {b_{k} \\leftarrow b_{k-1}+\\eta y_{i}}\\end{array}\n",
    "$$\n",
    "即 $\\hat{w}_{k}=\\hat{w}_{k-1}+\\eta y_{i} \\hat{x}_{i}$\n",
    "\n",
    "我们计算 $\\hat{w}_{k} \\cdot \\hat{w}_{\\mathrm{opt}}$，因为上面提到的 $y_{i}\\left(\\hat{w}_{\\mathrm{opt}} \\cdot \\hat{x}_{i}\\right) \\geqslant \\gamma$ 于是\n",
    "$$\n",
    "\\begin{aligned} \\hat{w}_{k} \\cdot \\hat{w}_{\\mathrm{opt}} &=\\hat{w}_{k-1} \\cdot \\hat{w}_{\\mathrm{opt}}+\\eta y_{i} \\hat{w}_{\\mathrm{opt}} \\cdot \\hat{x}_{i} \\\\ & \\geqslant \\hat{w}_{k-1} \\cdot \\hat{w}_{\\mathrm{opt}}+\\eta \\gamma \\end{aligned}\n",
    "$$\n",
    "而 $\\hat{w}_{k-1}$ 又可以写成 $\\hat{w}_{k-1}=\\hat{w}_{k-2}+\\eta y_{i} \\hat{x}_{i}$，由此递推得到\n",
    "$$\n",
    "{\\hat{w}_{k} \\cdot \\hat{w}_{\\mathrm{opt}} \\geqslant \\hat{w}_{k-1} \\cdot \\hat{w}_{\\mathrm{opt}}+\\eta \\gamma \\geqslant \\hat{w}_{k-2} \\cdot \\hat{w}_{\\mathrm{opt}}+2 \\eta \\gamma \\geqslant \\cdots \\geqslant k \\eta \\gamma}\n",
    "$$\n",
    "我们求 $\\hat{w}_{k}$ 的 $L_{2}$ 范数，因为 被$(x_{i},y_{i})$误分类，所以\n",
    "$$\n",
    "\\begin{aligned}\\left\\|\\hat{w}_{k}\\right\\|^{2} &=\\left\\|\\hat{w}_{k-1}\\right\\|^{2}+2 \\eta y_{i} \\hat{w}_{k-1} \\cdot \\hat{x}_{i}+\\eta^{2}\\left\\|\\hat{x}_{i}\\right\\|^{2} \\\\ & \\leqslant\\left\\|\\hat{w}_{k-1}\\right\\|^{2}+\\eta^{2}\\left\\|\\hat{x}_{i}\\right\\|^{2} \\\\ & \\leqslant\\left\\|\\hat{w}_{k-1}\\right\\|^{2}+\\eta^{2} R^{2} \\\\ & \\leqslant\\left\\|\\hat{w}_{k-2}\\right\\|^{2}+2 \\eta^{2} R^{2} \\leqslant \\cdots \\\\ & \\leqslant k \\eta^{2} R^{2} \\end{aligned}\n",
    "$$\n",
    "所以有：\n",
    "$$\n",
    "\\begin{array}{l}{k \\eta \\gamma \\leqslant \\hat{w}_{k} \\cdot \\hat{w}_{\\mathrm{opt}} \\leqslant\\left\\|\\hat{w}_{k}\\right\\|\\left\\|\\hat{w}_{\\mathrm{opt}}\\right\\| \\leqslant \\sqrt{k} \\eta R} \\\\ {k^{2} \\gamma^{2} \\leqslant k R^{2}} \\\\ k \\leqslant\\left(\\frac{R}{\\gamma}\\right)^{2} \\end{array}\n",
    "$$\n",
    "\n",
    "## 2.3.3 感知机学习算法的对偶形式\n",
    "\n",
    "感知机在误分类点 $(x_{i},y_{i})$ 更新参数时的计算方法为：\n",
    "$$\n",
    "\\begin{array}{c}{w \\leftarrow w+\\eta y_{i} x_{i}} \\\\ {b \\leftarrow b+\\eta y_{i}}\\end{array}\n",
    "$$\n",
    "假设从起点 $w_{0},b_{0}$ 开始，修改 $n$ 次后，两参数的增量分别为 $\\alpha_{i}y_{i} x_{i}$，$\\alpha_{i}y_{i}$，这里 $\\alpha_{i} = n_{i}\\eta$，所以最终学到的 $w$ 和 $b$ 可以表示为：\n",
    "$$\n",
    "\\begin{aligned} w &=\\sum_{i=1}^{N} \\alpha_{i} y_{i} x_{i} \\\\ b &=\\sum_{i=1}^{N} \\alpha_{i} y_{i} \\end{aligned}\n",
    "$$\n",
    "当 $\\eta = 1$ 时，$\\alpha_{i}$ 表示为第 $i$ 个实例由于误分类而进行更新的次数。\n",
    "\n",
    "所以评判标准变为，如果 $y_{i}\\left(\\sum_{j=1}^{N} \\alpha_{j} y_{j} x_{j} \\cdot x_{i}+b\\right) \\leqslant 0$，那么\n",
    "$$\n",
    "\\begin{array}{l}{\\alpha_{i} \\leftarrow \\alpha_{i}+\\eta} \\\\ {b \\leftarrow b+\\eta y_{i}}\\end{array}\n",
    "$$\n",
    "评判式里的实例仅以内积形式出现，可以预先算好存在一个矩阵里，这就是 Gram 矩阵（Gram matrix）\n",
    "$$\n",
    "\\mathbf{G}=\\left[x_{i} \\cdot x_{j}\\right]_{N \\times N}\n",
    "$$\n",
    "与原始形式一样，对偶形式也是收敛的，存在多个解。\n",
    "\n",
    "# 算法实现"
   ]
  },
  {
   "cell_type": "markdown",
   "metadata": {},
   "source": [
    "**导入需要的库**"
   ]
  },
  {
   "cell_type": "code",
   "execution_count": 1,
   "metadata": {},
   "outputs": [],
   "source": [
    "import pandas as pd\n",
    "import numpy as np\n",
    "import matplotlib.pyplot as plt\n",
    "%matplotlib inline"
   ]
  },
  {
   "cell_type": "markdown",
   "metadata": {},
   "source": [
    "**版本与硬件信息**"
   ]
  },
  {
   "cell_type": "code",
   "execution_count": 2,
   "metadata": {},
   "outputs": [
    {
     "name": "stdout",
     "output_type": "stream",
     "text": [
      "CPython 3.6.9\n",
      "IPython 7.7.0\n",
      "\n",
      "ipywidgets 7.5.1\n",
      "matplotlib 2.1.2\n",
      "numpy 1.16.4\n",
      "pandas 0.25.0\n",
      "sklearn 0.21.2\n",
      "\n",
      "compiler   : MSC v.1915 64 bit (AMD64)\n",
      "system     : Windows\n",
      "release    : 10\n",
      "machine    : AMD64\n",
      "processor  : Intel64 Family 6 Model 60 Stepping 3, GenuineIntel\n",
      "CPU cores  : 4\n",
      "interpreter: 64bit\n"
     ]
    }
   ],
   "source": [
    "%load_ext watermark\n",
    "%watermark -v -m -p ipywidgets,matplotlib,numpy,pandas,sklearn"
   ]
  },
  {
   "cell_type": "markdown",
   "metadata": {},
   "source": [
    "**加载数据**\n",
    "\n",
    "数据为某次测试的学生成绩，数据格式为 $[score_1,socre_2,pass]$，成绩为百分制，$pass$ 为 1 表示通过，为 0 表示未通过"
   ]
  },
  {
   "cell_type": "code",
   "execution_count": 3,
   "metadata": {},
   "outputs": [
    {
     "data": {
      "text/plain": [
       "array([[99.8278578 , 72.36925193,  1.        ],\n",
       "       [99.31500881, 68.77540947,  1.        ],\n",
       "       [99.27252693, 60.999031  ,  1.        ],\n",
       "       [33.91550011, 93.86943574,  0.        ],\n",
       "       [97.64563396, 68.86157272,  1.        ],\n",
       "       [94.83450672, 41.6943068 ,  1.        ]])"
      ]
     },
     "execution_count": 3,
     "metadata": {},
     "output_type": "execute_result"
    }
   ],
   "source": [
    "file_path = '../data/2.perceptron/data.txt'\n",
    "raw_data = np.loadtxt(file_path, delimiter=',')\n",
    "raw_data[0:6, :]"
   ]
  },
  {
   "cell_type": "code",
   "execution_count": 4,
   "metadata": {},
   "outputs": [
    {
     "data": {
      "text/html": [
       "<div>\n",
       "<style scoped>\n",
       "    .dataframe tbody tr th:only-of-type {\n",
       "        vertical-align: middle;\n",
       "    }\n",
       "\n",
       "    .dataframe tbody tr th {\n",
       "        vertical-align: top;\n",
       "    }\n",
       "\n",
       "    .dataframe thead th {\n",
       "        text-align: right;\n",
       "    }\n",
       "</style>\n",
       "<table border=\"1\" class=\"dataframe\">\n",
       "  <thead>\n",
       "    <tr style=\"text-align: right;\">\n",
       "      <th></th>\n",
       "      <th>Exam 1 score</th>\n",
       "      <th>Exam 2 score</th>\n",
       "      <th>Pass</th>\n",
       "    </tr>\n",
       "  </thead>\n",
       "  <tbody>\n",
       "    <tr>\n",
       "      <th>0</th>\n",
       "      <td>99.827858</td>\n",
       "      <td>72.369252</td>\n",
       "      <td>1.0</td>\n",
       "    </tr>\n",
       "    <tr>\n",
       "      <th>1</th>\n",
       "      <td>99.315009</td>\n",
       "      <td>68.775409</td>\n",
       "      <td>1.0</td>\n",
       "    </tr>\n",
       "    <tr>\n",
       "      <th>2</th>\n",
       "      <td>99.272527</td>\n",
       "      <td>60.999031</td>\n",
       "      <td>1.0</td>\n",
       "    </tr>\n",
       "    <tr>\n",
       "      <th>3</th>\n",
       "      <td>33.915500</td>\n",
       "      <td>93.869436</td>\n",
       "      <td>0.0</td>\n",
       "    </tr>\n",
       "    <tr>\n",
       "      <th>4</th>\n",
       "      <td>97.645634</td>\n",
       "      <td>68.861573</td>\n",
       "      <td>1.0</td>\n",
       "    </tr>\n",
       "  </tbody>\n",
       "</table>\n",
       "</div>"
      ],
      "text/plain": [
       "   Exam 1 score  Exam 2 score  Pass\n",
       "0     99.827858     72.369252   1.0\n",
       "1     99.315009     68.775409   1.0\n",
       "2     99.272527     60.999031   1.0\n",
       "3     33.915500     93.869436   0.0\n",
       "4     97.645634     68.861573   1.0"
      ]
     },
     "execution_count": 4,
     "metadata": {},
     "output_type": "execute_result"
    }
   ],
   "source": [
    "df = pd.DataFrame(raw_data, columns=['Exam 1 score', 'Exam 2 score', 'Pass'])\n",
    "df.head()"
   ]
  },
  {
   "cell_type": "markdown",
   "metadata": {},
   "source": [
    "**查看数据**\n",
    "\n",
    "主要看看数据规模和数据分布情况"
   ]
  },
  {
   "cell_type": "code",
   "execution_count": 5,
   "metadata": {},
   "outputs": [
    {
     "data": {
      "text/plain": [
       "(89, 3)"
      ]
     },
     "execution_count": 5,
     "metadata": {},
     "output_type": "execute_result"
    }
   ],
   "source": [
    "df.shape"
   ]
  },
  {
   "cell_type": "code",
   "execution_count": 6,
   "metadata": {},
   "outputs": [
    {
     "data": {
      "text/plain": [
       "<matplotlib.legend.Legend at 0x2c6ec8f6320>"
      ]
     },
     "execution_count": 6,
     "metadata": {},
     "output_type": "execute_result"
    },
    {
     "data": {
      "image/png": "[encoded data removed]",
      "text/plain": [
       "<matplotlib.figure.Figure at 0x2c6ec638630>"
      ]
     },
     "metadata": {
      "needs_background": "light"
     },
     "output_type": "display_data"
    }
   ],
   "source": [
    "plt.figure(figsize=(11,7))\n",
    "plt.scatter(df.loc[df['Pass'] == 1, 'Exam 1 score'], df.loc[df['Pass'] == 1, 'Exam 2 score'], marker='+',s=60, c='k', label='pass')\n",
    "plt.scatter(df.loc[df['Pass'] == 0, 'Exam 1 score'], df.loc[df['Pass'] == 0, 'Exam 2 score'],s=60, label='fail')\n",
    "plt.xlabel('Exam 1 socre')\n",
    "plt.ylabel('Exam 2 score')\n",
    "plt.legend()"
   ]
  },
  {
   "cell_type": "markdown",
   "metadata": {},
   "source": [
    "**数据处理**\n",
    "\n",
    "简单处理一下数据，使其线性可分"
   ]
  },
  {
   "cell_type": "code",
   "execution_count": 7,
   "metadata": {},
   "outputs": [],
   "source": [
    "data = []\n",
    "for item in raw_data:\n",
    "    x1, x2, y = item\n",
    "    if x1 >= 60 and x2 >= 60:  #  都大于 60 分才算通过\n",
    "        y = 1\n",
    "    else:\n",
    "        y = 0\n",
    "    data.append([x1,x2,y])\n",
    "data = np.array(data)\n",
    "df = pd.DataFrame(data, columns=['Exam 1 score', 'Exam 2 score', 'Pass'])"
   ]
  },
  {
   "cell_type": "code",
   "execution_count": 8,
   "metadata": {},
   "outputs": [
    {
     "data": {
      "text/plain": [
       "<matplotlib.legend.Legend at 0x2c6ecb07d68>"
      ]
     },
     "execution_count": 8,
     "metadata": {},
     "output_type": "execute_result"
    },
    {
     "data": {
      "image/png": "[encoded data removed]",
      "text/plain": [
       "<matplotlib.figure.Figure at 0x2c6ec92aa90>"
      ]
     },
     "metadata": {
      "needs_background": "light"
     },
     "output_type": "display_data"
    }
   ],
   "source": [
    "plt.figure(figsize=(11,7))\n",
    "plt.scatter(df.loc[df['Pass'] == 1, 'Exam 1 score'], df.loc[df['Pass'] == 1, 'Exam 2 score'], marker='+',s=60, c='k', label='pass')\n",
    "plt.scatter(df.loc[df['Pass'] == 0, 'Exam 1 score'], df.loc[df['Pass'] == 0, 'Exam 2 score'],s=60, label='fail')\n",
    "plt.xlabel('Exam 1 socre')\n",
    "plt.ylabel('Exam 2 score')\n",
    "plt.legend()"
   ]
  },
  {
   "cell_type": "markdown",
   "metadata": {},
   "source": [
    "**准备数聚集**\n",
    "\n",
    "原始数据标签里，负类用 0 标记，为了参与运算改为 -1"
   ]
  },
  {
   "cell_type": "code",
   "execution_count": 9,
   "metadata": {},
   "outputs": [],
   "source": [
    "X, Y = np.array(df[['Exam 1 score','Exam 2 score']]),df['Pass']"
   ]
  },
  {
   "cell_type": "code",
   "execution_count": 10,
   "metadata": {},
   "outputs": [],
   "source": [
    "Y = np.array([1 if i == 1 else -1 for i in Y])"
   ]
  },
  {
   "cell_type": "markdown",
   "metadata": {},
   "source": [
    "**算法实现**\n",
    "\n",
    "使用一元一次函数进行二分类"
   ]
  },
  {
   "cell_type": "code",
   "execution_count": 11,
   "metadata": {},
   "outputs": [],
   "source": [
    "class Perceptron_self(object):\n",
    "    def __init__(self):\n",
    "        self.w = np.ones(df.shape[1] - 1, dtype=np.float32)\n",
    "        self.b = 0\n",
    "        self.eta = 0.1\n",
    "        \n",
    "    def sign(self, x, w, b):\n",
    "        y = np.dot(x,w) + b\n",
    "        return y\n",
    "    \n",
    "    def fit(self, X, Y):\n",
    "        while True:\n",
    "            count = 0\n",
    "            for i in range(len(X)):\n",
    "                x = X[i]\n",
    "                y = Y[i]\n",
    "                if y * self.sign(x, self.w, self.b) <= 0:\n",
    "                    self.w = self.w + self.eta * np.dot(x,y)\n",
    "                    self.b = self.b + self.eta * y\n",
    "                    count += 1\n",
    "            if count == 0:\n",
    "                return 'Finish'\n"
   ]
  },
  {
   "cell_type": "markdown",
   "metadata": {},
   "source": [
    "**训练模型**"
   ]
  },
  {
   "cell_type": "code",
   "execution_count": 12,
   "metadata": {},
   "outputs": [
    {
     "data": {
      "text/plain": [
       "'Finish'"
      ]
     },
     "execution_count": 12,
     "metadata": {},
     "output_type": "execute_result"
    }
   ],
   "source": [
    "perc = Perceptron_self()\n",
    "perc.fit(X, Y)"
   ]
  },
  {
   "cell_type": "code",
   "execution_count": 13,
   "metadata": {},
   "outputs": [
    {
     "data": {
      "text/plain": [
       "array([1.57648766, 1.92239325])"
      ]
     },
     "execution_count": 13,
     "metadata": {},
     "output_type": "execute_result"
    }
   ],
   "source": [
    "perc.w"
   ]
  },
  {
   "cell_type": "code",
   "execution_count": 14,
   "metadata": {},
   "outputs": [
    {
     "data": {
      "text/plain": [
       "-236.59999999999084"
      ]
     },
     "execution_count": 14,
     "metadata": {},
     "output_type": "execute_result"
    }
   ],
   "source": [
    "perc.b"
   ]
  },
  {
   "cell_type": "markdown",
   "metadata": {},
   "source": [
    "**查看效果**"
   ]
  },
  {
   "cell_type": "code",
   "execution_count": 15,
   "metadata": {},
   "outputs": [
    {
     "data": {
      "text/plain": [
       "<matplotlib.legend.Legend at 0x2c6ecc7a860>"
      ]
     },
     "execution_count": 15,
     "metadata": {},
     "output_type": "execute_result"
    },
    {
     "data": {
      "image/png": "[encoded data removed]",
      "text/plain": [
       "<matplotlib.figure.Figure at 0x2c6ec9bca58>"
      ]
     },
     "metadata": {
      "needs_background": "light"
     },
     "output_type": "display_data"
    }
   ],
   "source": [
    "sample = np.linspace(30, 100, 10)\n",
    "\n",
    "y_pred = -(perc.w[0] * sample + perc.b) / perc.w[1]\n",
    "\n",
    "plt.figure(figsize=(11,7))\n",
    "plt.plot(sample, y_pred)\n",
    "plt.scatter(df.loc[df['Pass'] == 1, 'Exam 1 score'], df.loc[df['Pass'] == 1, 'Exam 2 score'], marker='+',s=60, c='k', label='pass')\n",
    "plt.scatter(df.loc[df['Pass'] == 0, 'Exam 1 score'], df.loc[df['Pass'] == 0, 'Exam 2 score'],s=60, c='orange', label='fail')\n",
    "plt.xlabel('Exam 1 socre')\n",
    "plt.ylabel('Exam 2 score')\n",
    "plt.legend()"
   ]
  },
  {
   "cell_type": "markdown",
   "metadata": {},
   "source": [
    "### scikit-learn\n",
    "\n",
    "[scikit-learn](https://scikit-learn.org/) 是一个成熟的 python 数据科学库，有大量的统计方法实现，比如[感知机](https://scikit-learn.org/stable/modules/generated/sklearn.linear_model.Perceptron.html)"
   ]
  },
  {
   "cell_type": "code",
   "execution_count": 16,
   "metadata": {},
   "outputs": [],
   "source": [
    "from sklearn.linear_model import Perceptron"
   ]
  },
  {
   "cell_type": "code",
   "execution_count": 17,
   "metadata": {},
   "outputs": [
    {
     "name": "stdout",
     "output_type": "stream",
     "text": [
      "Accuracy: 60.67415730337079%\n"
     ]
    }
   ],
   "source": [
    "perc = Perceptron(max_iter=1000,eta0=0.03)\n",
    "perc.fit(X,Y)\n",
    "print (\"Accuracy: \" + str(perc.score(X, Y)*100) + \"%\")"
   ]
  },
  {
   "cell_type": "markdown",
   "metadata": {},
   "source": [
    "**各个特征的权重**"
   ]
  },
  {
   "cell_type": "code",
   "execution_count": 18,
   "metadata": {},
   "outputs": [
    {
     "data": {
      "text/plain": [
       "array([[-0.35122218, -0.66691038]])"
      ]
     },
     "execution_count": 18,
     "metadata": {},
     "output_type": "execute_result"
    }
   ],
   "source": [
    "perc.coef_"
   ]
  },
  {
   "cell_type": "markdown",
   "metadata": {},
   "source": [
    "**截距**"
   ]
  },
  {
   "cell_type": "code",
   "execution_count": 19,
   "metadata": {},
   "outputs": [
    {
     "data": {
      "text/plain": [
       "array([-4.23])"
      ]
     },
     "execution_count": 19,
     "metadata": {},
     "output_type": "execute_result"
    }
   ],
   "source": [
    "perc.intercept_"
   ]
  },
  {
   "cell_type": "code",
   "execution_count": 20,
   "metadata": {},
   "outputs": [
    {
     "data": {
      "text/plain": [
       "<matplotlib.legend.Legend at 0x2c6eed767b8>"
      ]
     },
     "execution_count": 20,
     "metadata": {},
     "output_type": "execute_result"
    },
    {
     "data": {
      "image/png": "[encoded data removed]",
      "text/plain": [
       "<matplotlib.figure.Figure at 0x2c6ec9beb00>"
      ]
     },
     "metadata": {
      "needs_background": "light"
     },
     "output_type": "display_data"
    }
   ],
   "source": [
    "sample = np.linspace(30, 100, 10)\n",
    "\n",
    "y_pred = -(perc.coef_[0][0] * sample + perc.intercept_) / perc.coef_[0][1]\n",
    "\n",
    "plt.figure(figsize=(11,7))\n",
    "plt.plot(sample, y_pred)\n",
    "plt.scatter(df.loc[df['Pass'] == 1, 'Exam 1 score'], df.loc[df['Pass'] == 1, 'Exam 2 score'], marker='+',s=60, c='k', label='pass')\n",
    "plt.scatter(df.loc[df['Pass'] == 0, 'Exam 1 score'], df.loc[df['Pass'] == 0, 'Exam 2 score'],s=60, c='orange', label='fail')\n",
    "plt.xlabel('Exam 1 socre')\n",
    "plt.ylabel('Exam 2 score')\n",
    "plt.legend()"
   ]
  },
  {
   "cell_type": "markdown",
   "metadata": {},
   "source": [
    "# 习题\n",
    "\n",
    "**2.1 验证感知机为什么不能表示异或**\n",
    "\n",
    "解：\n",
    "\n",
    "异或(XOR)逻辑为\n",
    "\n",
    "| a    | b    | y    |\n",
    "| ---- | ---- | ---- |\n",
    "| 0    | 0    | -1   |\n",
    "| 1    | 0    | 1    |\n",
    "| 0    | 1    | 1    |\n",
    "| 1    | 1    | -1   |\n",
    "\n",
    "![]( https://raw.githubusercontent.com/LibertyDream/diy_img_host/master/img/2019-08-15_xor.jpg)\n",
    "\n",
    "取 $x_{i} = (a_{i},b_{i})^{T}$ 如果全部分类正确，超平面需要满足：\n",
    "$$\n",
    "\\left\\{\\begin{array}{l}{\\mathrm{w} \\cdot x_{1}+\\mathrm{d}<0} \\\\ {\\mathrm{w} \\cdot x_{2}+\\mathrm{d}>0} \\\\ {\\mathrm{w} \\cdot x_{3}+\\mathrm{d}>0} \\\\ {\\mathrm{w} \\cdot x_{4}+\\mathrm{d}<0}\\end{array}\\right.\n",
    "$$\n",
    "假定 $w=(u,v)^T$ ,则上式简化为：\n",
    "$$\n",
    "\\left\\{\\begin{array}{c}{d<0} \\\\ {u+d>0} \\\\ {v+d>0} \\\\ {u+v+d<0}\\end{array}\\right.\n",
    "$$\n",
    "无解，也即在图中找不到一条能线性划分两类点的直线。所以感知机不能表示异或\n",
    "\n",
    "**2.2 模仿例题2.1，构建从训练数据集求感知机模型的例子**\n",
    "\n",
    "参见算法实现部分\n",
    "\n",
    "**2.3 证明以下定理：样本集线性可分的充分必要条件是正实例点集和负实例点集所构成的凸壳互不相交**\n",
    "\n",
    "凸壳定义：设集合 $S \\subset \\mathbf{R}^{n}$ 是由 $\\mathbf{R}^{n}$ 中的 $k$ 个点所组成的集合，即 $S=\\left\\{x_{1}, x_{2}, \\cdots, x_{k}\\right\\}$，定义 $S$ 的凸壳 conv(S) 为\n",
    "$$\n",
    "\\operatorname{conv}(S)=\\left\\{x=\\sum_{i=1}^{k} \\lambda_{i} x_{i} | \\sum_{i=1}^{k} \\lambda_{i}=1, \\lambda_{i} \\geqslant 0, i=1,2, \\cdots, k\\right\\}\n",
    "$$\n",
    "\n",
    "在二维欧几里得空间中，凸包(凸壳)可想象为一条刚好包着所有点的橡皮圈。\n",
    "\n",
    "![]( https://raw.githubusercontent.com/LibertyDream/diy_img_host/master/img/2019-08-15_convex_hull.jpg)\n",
    "\n",
    "**充分性：**\n",
    "\n",
    "取空间中任意两点 $x$，$y$ 的距离为欧几里得距离，即 $\\| x - y \\|_{2} = \\sqrt{\\left(x-y\\right) \\cdot\\left(x-y\\right)}$ 记作 $d(x,y)$。定位两个凸包间的距离\n",
    "$$\n",
    "d(S_{1}, S_{2}) = \\min \\{d(x,y)|x \\in S_1,y\\in S_{2}\\}\n",
    "$$\n",
    "令正实例点集为 $S_{x}$，负实例点集为 $S_{y}$，二者间距离为 $d(x_{min}, y_{min})$。因为 $S_{x}$ 和 $S_{y}$ 不相交，取 $S_{x}$ 内任一点 $x$，记点 $x$ 指向 $x_{min}$ 的向量为 $(x,x_{min})$，有 $(x,x_{min})+(x_{min}, y_{min}) = (x,y_{min})$ ，则有  $d(x,x_{min}) \\leqslant d(x,y_{min})$，同理对任意 $S_{y}$ 内的点 $y$ ，有 $d(y,y_{min}) \\leqslant d(y,x_{min})$\n",
    "\n",
    "构造超平面 $w \\cdot a + b = 0$，其中\n",
    "$$\n",
    "w = x_{min} - y_{min}\\\\\n",
    "b = -\\frac{x_{min} \\cdot x_{min} - y_{min} \\cdot y_{min}}{2}\n",
    "$$\n",
    "则\n",
    "$$\n",
    "\\begin{aligned}\n",
    "w \\cdot a + b &= \\left(x_{min}-y_{min}\\right) \\cdot a-\\frac{x_{min} \\cdot x_{min}-y_{min} \\cdot y_{min}}{2} \\\\\n",
    "&=x_{min} \\cdot a - y_{min} \\cdot a - \\frac{x_{min} \\cdot x_{min}-y_{min} \\cdot y_{min}}{2} \\\\\n",
    "&= \\frac{2x_{min} \\cdot a - 2y_{min} \\cdot a - x_{min} \\cdot x_{min}+y_{min} \\cdot y_{min} + a\\cdot a - a\\cdot a}{2}\\\\\n",
    "&= \\frac{\\|a - y_{min}\\|_{2}^{2} - \\|a - x_{min}\\|_{2}^{2}}{2} \\\\\n",
    "&= \\frac{d^{2}(a,y_{min}) - d^{2}(a,x_{min})}{2}\n",
    "\\end{aligned}\n",
    "$$\n",
    "于是，对 $\\forall x \\in S_{x}$，有 $w \\cdot x + b > 0$，对 $\\forall y \\in S_{y}$，有 $w \\cdot y + b < 0$，所以 $S_{x}$ 与 $S_{y}$ 线性可分\n",
    "\n",
    "**必要性：**\n",
    "\n",
    "当样本集线性可分，超平面为 $w \\cdot a + b = 0$，正实例点集为 $X$, 其凸包为 $S_{x}$，负实例点集为 $Y$，其凸包为 $S_{y}$。于是对正实例点集中任意一点有：\n",
    "$$\n",
    "w \\cdot x_{i}+b>0\n",
    "$$\n",
    "进而对于 $S_{x}$\n",
    "$$\n",
    "\\begin{aligned} w \\cdot x+b &=w \\cdot\\left(\\Sigma_{i=1}^{k} \\lambda_{i} x_{i}\\right)+\\left(\\Sigma_{i=1}^{k} \\lambda_{i}\\right) \\cdot b \\\\ &=\\Sigma_{i=1}^{k} \\lambda_{i} w_{i} x_{i}+\\left(\\Sigma_{i=1}^{k} \\lambda_{i}\\right) \\cdot b \\\\ &=\\Sigma_{i=1}^{k} \\lambda_{i}\\left(w_{i} x_{i}+b\\right)>0 \\end{aligned}\n",
    "$$\n",
    "同理可证，对 $S_{y}$ 有 $\\Sigma_{i=1}^{k} \\lambda_{i}\\left(w_{i} y_{i}+b\\right)<0$，所以正实例点集与负实例点集互不相交"
   ]
  },
  {
   "cell_type": "markdown",
   "metadata": {},
   "source": [
    "---\n",
    "\n",
    "**作者：** Daniel Meng\n",
    "\n",
    "**GitHub：**[LibertyDream](https://github.com/LibertyDream)\n",
    "\n",
    "**博客：**[明月轩](https://LIbertydream.github.io)"
   ]
  }
 ],
 "metadata": {
  "hide_input": false,
  "kernelspec": {
   "display_name": "Python 3",
   "language": "python",
   "name": "python3"
  },
  "language_info": {
   "codemirror_mode": {
    "name": "ipython",
    "version": 3
   },
   "file_extension": ".py",
   "mimetype": "text/x-python",
   "name": "python",
   "nbconvert_exporter": "python",
   "pygments_lexer": "ipython3",
   "version": "3.6.9"
  },
  "toc": {
   "base_numbering": 1,
   "nav_menu": {},
   "number_sections": true,
   "sideBar": true,
   "skip_h1_title": false,
   "title_cell": "Table of Contents",
   "title_sidebar": "Contents",
   "toc_cell": false,
   "toc_position": {},
   "toc_section_display": true,
   "toc_window_display": false
  },
  "varInspector": {
   "cols": {
    "lenName": 16,
    "lenType": 16,
    "lenVar": 40
   },
   "kernels_config": {
    "python": {
     "delete_cmd_postfix": "",
     "delete_cmd_prefix": "del ",
     "library": "var_list.py",
     "varRefreshCmd": "print(var_dic_list())"
    },
    "r": {
     "delete_cmd_postfix": ") ",
     "delete_cmd_prefix": "rm(",
     "library": "var_list.r",
     "varRefreshCmd": "cat(var_dic_list()) "
    }
   },
   "types_to_exclude": [
    "module",
    "function",
    "builtin_function_or_method",
    "instance",
    "_Feature"
   ],
   "window_display": false
  }
 },
 "nbformat": 4,
 "nbformat_minor": 2
}
