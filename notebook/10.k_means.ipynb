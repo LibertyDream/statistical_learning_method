{
 "cells": [
  {
   "cell_type": "markdown",
   "metadata": {},
   "source": [
    "- [k 均值聚类](#k-均值聚类)\n",
    "    - [算法实现](#算法实现)"
   ]
  },
  {
   "cell_type": "markdown",
   "metadata": {},
   "source": [
    "# k-均值聚类\n",
    "\n",
    "聚类问题的关键是距离、相似度的定义。\n",
    "\n",
    "k 均值聚类实际是对样本集进行划分。事先指定 k 个类别，以欧氏距离平方表示样本间距离，以中心或样本均值表示类别。以样本和所属类中心的距离总和为最优化目标函数。\n",
    "\n",
    "n 个样本划分到 k 类这种组合优化问题是 NP 级的，于是采用启发式的迭代算法，不能保证得到全局最优。每个样本只能属于一个类，属于硬聚类。得到的类别是平坦、非层次化的。\n",
    "\n",
    "因为不能保证全局最优，初始中心的选择直接影响聚类结果，初始中心不同，结果不同。\n",
    "\n",
    "类别数 k 要预先指定。最优 k 值可以通过二分查找迅速找到。评判标准是类的平均直径，一般类别数变小，平均直径增加，类别数超过某个值时，平均直径不再发生改变，即最优 k 值。\n",
    "\n",
    "- 距离\n",
    "\n",
    "$$\n",
    "\\begin{aligned} d\\left(x_{i}, x_{j}\\right) &=\\sum_{k=1}^{m}\\left(x_{k i}-x_{k j}\\right)^{2} \\\\ &=\\left\\|x_{i}-x_{j}\\right\\|^{2} \\end{aligned}\n",
    "$$\n",
    "\n",
    "- 损失函数\n",
    "\n",
    "$$\n",
    "W(C)=\\sum_{l=1}^{k} \\sum_{C(i)=l}\\left\\|x_{i}-\\bar{x}_{l}\\right\\|^{2}\n",
    "$$\n",
    "\n",
    "$l$ 表示某一类，$C$ 是样本到类别的多对一函数\n",
    "\n",
    "- 目标\n",
    "\n",
    "$$\n",
    "\\min _{C} \\sum_{l=1}^{k} \\sum_{C(i)=l}\\left\\|x_{i}-m_{l}\\right\\|^{2}\n",
    "$$\n",
    "\n",
    "$m_l$ 是中心值\n",
    "\n",
    "- 算法\n",
    "\n",
    "    1. 选择 k 个类中心，将样本按距离指派到最近的类中，得到聚类结果\n",
    "\n",
    "    2. 更新各类的均值成为新中心\n",
    "\n",
    "    3. 迭代直到聚类结果不变"
   ]
  },
  {
   "cell_type": "markdown",
   "metadata": {},
   "source": [
    "# 算法实现\n",
    "\n",
    "- 导入相关库"
   ]
  },
  {
   "cell_type": "code",
   "execution_count": 3,
   "metadata": {},
   "outputs": [],
   "source": [
    "import numpy as np\n",
    "import math"
   ]
  },
  {
   "cell_type": "markdown",
   "metadata": {},
   "source": [
    "- 硬件与版本信息"
   ]
  },
  {
   "cell_type": "code",
   "execution_count": 2,
   "metadata": {},
   "outputs": [
    {
     "name": "stdout",
     "output_type": "stream",
     "text": [
      "CPython 3.7.3\n",
      "IPython 7.6.1\n",
      "\n",
      "ipywidgets 7.5.0\n",
      "numpy 1.16.4\n",
      "\n",
      "compiler   : MSC v.1915 64 bit (AMD64)\n",
      "system     : Windows\n",
      "release    : 10\n",
      "machine    : AMD64\n",
      "processor  : Intel64 Family 6 Model 60 Stepping 3, GenuineIntel\n",
      "CPU cores  : 4\n",
      "interpreter: 64bit\n"
     ]
    }
   ],
   "source": [
    "%load_ext watermark\n",
    "%watermark -m -v -p ipywidgets,numpy"
   ]
  },
  {
   "cell_type": "markdown",
   "metadata": {},
   "source": [
    "- 辅助函数"
   ]
  },
  {
   "cell_type": "code",
   "execution_count": 4,
   "metadata": {},
   "outputs": [],
   "source": [
    "def euclidean_distance(x, y):\n",
    "    '''欧氏距离'''\n",
    "    distance = 0\n",
    "    for i in range(len(x)):\n",
    "        distance += pow((x[i] - y[i]),2)\n",
    "    return math.sqrt(distance)"
   ]
  },
  {
   "cell_type": "code",
   "execution_count": 5,
   "metadata": {},
   "outputs": [],
   "source": [
    "def normalize(X, axis=-1, order=2):\n",
    "    '''对数据集归一化'''\n",
    "    temp = np.atleast_1d(np.linalg.norm(X, axis, order))\n",
    "    temp[temp==0] = 1\n",
    "    return X / np.expand_dims(temp, axis)"
   ]
  },
  {
   "cell_type": "markdown",
   "metadata": {},
   "source": [
    "- 实现"
   ]
  },
  {
   "cell_type": "code",
   "execution_count": null,
   "metadata": {},
   "outputs": [],
   "source": [
    "class KMeans(object):\n",
    "    '''k 均值聚类\n",
    "    \n",
    "    k: int\n",
    "        要划分的类别数量\n",
    "    max_iter: int\n",
    "        最大迭代次数\n",
    "    '''\n",
    "    \n",
    "    def __init__(self, k=3, max_iter=400):\n",
    "        self.k = k\n",
    "        self.max_iter = max_iter\n",
    "    \n",
    "    def predict(self, X_test):\n",
    "        \n",
    "        centers = self.__init_centers(X_test)\n",
    "        \n",
    "        for _ in range(self.max_iter):\n",
    "            \n",
    "            clusters = self.__create_clusters(center, X_test)\n",
    "            \n",
    "            prev_centers = centers\n",
    "            \n",
    "            centers = self.__calculate_centers(clusters, X_test)\n",
    "            \n",
    "            diff = centers - prev_centers\n",
    "            \n",
    "            if not diff.any():\n",
    "                break\n",
    "                \n",
    "        return self.__get_cluster_labels(clusters, X_test)\n",
    "    \n",
    "    def __init_centers(self, X):\n",
    "        \n",
    "        n_samples, n_features = np.shape(X)\n",
    "        \n",
    "        centers = np.zeros((self.k, n_features))\n",
    "        for i in range(self.k):\n",
    "            centers[i] = X[np.random.choice(range(n_samples))]\n",
    "        return centers\n",
    "    \n",
    "    def __create_clusters(self, centers, X):\n",
    "        \n",
    "        clusters = [[] for _ in range(self.k)]\n",
    "        for i, sample in enumerate(X):\n",
    "            center_idx = self.__closest(sample, centers)\n",
    "            clusters[center_idx].append(i)\n",
    "        return clusters\n",
    "    \n",
    "    def __closest(self, x, centers):\n",
    "        \n",
    "        idx = 0\n",
    "        min_dist = float('inf')\n",
    "        for i, center in enumerate(centers):\n",
    "            distance = euclidean_distance(sample, center)\n",
    "            if distance < min_dist:\n",
    "                min_dist = distance\n",
    "                idx = i\n",
    "        return idx\n",
    "    \n",
    "    def __calculate_centers(self, clusters, X):\n",
    "        \n",
    "        n_features = np.shape(X)[1]\n",
    "        centers = np.zeros((self.k, n_features))\n",
    "        for i, cluster in enumerate(clusters):\n",
    "            center = np.mean(X[cluster], axis=0)\n",
    "            centers[i] = center\n",
    "        return centers\n",
    "    \n",
    "    def __get_cluster_labels(self, clusters, X):\n",
    "        \n",
    "        y_pred = np.zeros(np.shape(X)[0])\n",
    "        for i, cluster in enumerate(clusters):\n",
    "            for x in cluster:\n",
    "                y_pred[x] = i\n",
    "        return y_pred"
   ]
  },
  {
   "cell_type": "markdown",
   "metadata": {},
   "source": [
    "---\n",
    "\n",
    "**作者：** Daniel Meng\n",
    "\n",
    "**GitHub：**[LibertyDream](https://github.com/LibertyDream)\n",
    "\n",
    "**博客：**[明月轩](https://LIbertydream.github.io)"
   ]
  }
 ],
 "metadata": {
  "kernelspec": {
   "display_name": "Python 3",
   "language": "python",
   "name": "python3"
  },
  "language_info": {
   "codemirror_mode": {
    "name": "ipython",
    "version": 3
   },
   "file_extension": ".py",
   "mimetype": "text/x-python",
   "name": "python",
   "nbconvert_exporter": "python",
   "pygments_lexer": "ipython3",
   "version": "3.7.3"
  }
 },
 "nbformat": 4,
 "nbformat_minor": 2
}
